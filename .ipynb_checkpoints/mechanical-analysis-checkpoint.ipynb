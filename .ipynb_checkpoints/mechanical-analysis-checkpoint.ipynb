{
 "cells": [
  {
   "cell_type": "code",
   "execution_count": null,
   "metadata": {
    "collapsed": true,
    "pycharm": {
     "name": "#%%\n",
     "is_executing": true
    }
   },
   "outputs": [],
   "source": [
    "from vanilla import *\n",
    "import matplotlib.pyplot as plt\n",
    "import numpy\n",
    "import sympy"
   ]
  },
  {
   "cell_type": "code",
   "execution_count": null,
   "outputs": [],
   "source": [
    "def average_defence(iterations):\n",
    "    count = 0\n",
    "    tot_defence = 0\n",
    "    for i in range(3, 5):\n",
    "        for x in range(1, iterations):\n",
    "            defence = dice_roll(i * 2)\n",
    "            d_successes = success_count(defence)\n",
    "            tot_defence += d_successes\n",
    "            count += 1\n",
    "        print(f'Stats for Armour Rating {i}: ')\n",
    "        print(f'Total rolls: {iterations}\\nSuccesses: {d_successes}\\nAverage: {d_successes / count}\\n')\n",
    "\n",
    "average_defence(1000)"
   ],
   "metadata": {
    "collapsed": false,
    "pycharm": {
     "name": "#%%\n",
     "is_executing": true
    }
   }
  },
  {
   "cell_type": "code",
   "execution_count": null,
   "outputs": [],
   "source": [],
   "metadata": {
    "collapsed": false,
    "pycharm": {
     "name": "#%%\n"
    }
   }
  }
 ],
 "metadata": {
  "kernelspec": {
   "display_name": "Python 3",
   "language": "python",
   "name": "python3"
  },
  "language_info": {
   "codemirror_mode": {
    "name": "ipython",
    "version": 2
   },
   "file_extension": ".py",
   "mimetype": "text/x-python",
   "name": "python",
   "nbconvert_exporter": "python",
   "pygments_lexer": "ipython2",
   "version": "2.7.6"
  }
 },
 "nbformat": 4,
 "nbformat_minor": 0
}