{
 "cells": [
  {
   "cell_type": "code",
   "execution_count": 8,
   "metadata": {
    "pycharm": {
     "is_executing": true,
     "name": "#%%\n"
    }
   },
   "outputs": [],
   "source": [
    "from vanilla import dice_roll, success_count\n",
    "import matplotlib.pyplot as plt\n",
    "import numpy\n",
    "import sympy\n",
    "iterations = 1000"
   ]
  },
  {
   "cell_type": "code",
   "execution_count": 9,
   "metadata": {
    "collapsed": false,
    "jupyter": {
     "outputs_hidden": false
    },
    "pycharm": {
     "is_executing": true,
     "name": "#%%\n"
    }
   },
   "outputs": [
    {
     "name": "stdout",
     "output_type": "stream",
     "text": [
      "Stats for Armour Rating 3: \n",
      "Total rolls: 1000\n",
      "Successes: 3577\n",
      "Average successes per roll: 3.577\n",
      "\n",
      "Stats for Armour Rating 4: \n",
      "Total rolls: 1000\n",
      "Successes: 8401\n",
      "Average successes per roll: 4.2005\n",
      "\n",
      "Stats for Armour Rating 5: \n",
      "Total rolls: 1000\n",
      "Successes: 14449\n",
      "Average successes per roll: 4.816333333333334\n",
      "\n"
     ]
    }
   ],
   "source": [
    "def average_defence(iterations):\n",
    "    count = 0\n",
    "    tot_defence = 0\n",
    "    for i in range(3, 6):\n",
    "        for x in range(1, iterations + 1):\n",
    "            defence = dice_roll(i * 2)\n",
    "            d_successes = success_count(defence)\n",
    "            tot_defence += d_successes\n",
    "            count += 1\n",
    "        print(f'Stats for Armour Rating {i}: ')\n",
    "        print(f'Total rolls: {iterations}\\nSuccesses: {tot_defence}\\nAverage successes per roll: {tot_defence / count}\\n')\n",
    "\n",
    "average_defence(iterations)"
   ]
  },
  {
   "cell_type": "code",
   "execution_count": 10,
   "metadata": {
    "collapsed": false,
    "jupyter": {
     "outputs_hidden": false
    },
    "pycharm": {
     "name": "#%%\n"
    }
   },
   "outputs": [
    {
     "name": "stdout",
     "output_type": "stream",
     "text": [
      "Stats for Attack Rating 8: \n",
      "Total rolls: 1000\n",
      "Successes: 4759\n",
      "Total Damage: 43847\n",
      "Average successes: 4.759 successes per roll\n",
      "Average damage per roll: 43.847\n",
      "\n",
      "Stats for Attack Rating 9: \n",
      "Total rolls: 1000\n",
      "Successes: 10267\n",
      "Total Damage: 93714\n",
      "Average successes: 5.1335 successes per roll\n",
      "Average damage per roll: 46.857\n",
      "\n",
      "Stats for Attack Rating 10: \n",
      "Total rolls: 1000\n",
      "Successes: 16197\n",
      "Total Damage: 148478\n",
      "Average successes: 5.399 successes per roll\n",
      "Average damage per roll: 49.492666666666665\n",
      "\n",
      "Stats for Attack Rating 11: \n",
      "Total rolls: 1000\n",
      "Successes: 22899\n",
      "Total Damage: 209547\n",
      "Average successes: 5.72475 successes per roll\n",
      "Average damage per roll: 52.38675\n",
      "\n",
      "Stats for Attack Rating 12: \n",
      "Total rolls: 1000\n",
      "Successes: 30118\n",
      "Total Damage: 275327\n",
      "Average successes: 6.0236 successes per roll\n",
      "Average damage per roll: 55.0654\n",
      "\n",
      "Stats for Attack Rating 13: \n",
      "Total rolls: 1000\n",
      "Successes: 37926\n",
      "Total Damage: 347046\n",
      "Average successes: 6.321 successes per roll\n",
      "Average damage per roll: 57.841\n",
      "\n"
     ]
    }
   ],
   "source": [
    "def average_attack(iterations):\n",
    "    count = 0\n",
    "    tot_attack = 0\n",
    "    tot_damage = 0\n",
    "    for i in range(8, 14):\n",
    "        for x in range(1, iterations + 1):\n",
    "            attack_roll = dice_roll(i)\n",
    "            a_successes = success_count(attack_roll)\n",
    "            tot_attack += a_successes\n",
    "            tot_damage += sum(attack_roll)\n",
    "            count += 1\n",
    "        print(f'Stats for Attack Rating {i}: ')\n",
    "        print(f'Total rolls: {iterations}\\nSuccesses: {tot_attack}\\nTotal Damage: {tot_damage}\\nAverage successes: {tot_attack/count} successes per roll')\n",
    "        print(f'Average damage per roll: {tot_damage/count}\\n')\n",
    "\n",
    "average_attack(iterations)\n"
   ]
  }
 ],
 "metadata": {
  "kernelspec": {
   "display_name": "Python 3",
   "language": "python",
   "name": "python3"
  },
  "language_info": {
   "codemirror_mode": {
    "name": "ipython",
    "version": 2
   },
   "file_extension": ".py",
   "mimetype": "text/x-python",
   "name": "python",
   "nbconvert_exporter": "python",
   "pygments_lexer": "ipython2",
   "version": "2.7.6"
  }
 },
 "nbformat": 4,
 "nbformat_minor": 4
}